{
 "cells": [
  {
   "metadata": {},
   "cell_type": "markdown",
   "source": [
    "# NCSU Drone Delivery for Retail\n",
    "\n",
    "### Drone operational data analytics\n"
   ],
   "id": "f586026891ca9d7a"
  },
  {
   "metadata": {},
   "cell_type": "code",
   "source": "!pip3 install pandas matplotlib seaborn statsmodels",
   "id": "5417bcc18f388da6",
   "outputs": [],
   "execution_count": null
  },
  {
   "metadata": {},
   "cell_type": "code",
   "source": [
    "import pandas as pd\n",
    "import matplotlib.pyplot as plt\n",
    "import numpy as np\n",
    "import statsmodels.api as sm\n",
    "import seaborn as sns"
   ],
   "id": "initial_id",
   "outputs": [],
   "execution_count": null
  },
  {
   "metadata": {},
   "cell_type": "markdown",
   "source": "### Loading the data",
   "id": "60f45a23ecf85e6c"
  },
  {
   "metadata": {},
   "cell_type": "code",
   "source": [
    "\"\"\"\n",
    "This file contains all experiments with varying speed, altitude, route etc.\n",
    "\"\"\"\n",
    "parameters_df = pd.read_csv('../data/parameters.csv')\n",
    "parameters_df.sample(5)"
   ],
   "id": "1a3a99566f754eb3",
   "outputs": [],
   "execution_count": null
  },
  {
   "metadata": {},
   "cell_type": "code",
   "source": [
    "flight_df = pd.read_csv('../data/flights.csv', dtype={\"altitude\": str})\n",
    "# Filter bad data\n",
    "flight_df = flight_df[flight_df[\"altitude\"] != \"25-50-100-25\"] \n",
    "flight_df.sample(10)"
   ],
   "id": "e2017d5d9f33ad12",
   "outputs": [],
   "execution_count": null
  },
  {
   "metadata": {},
   "cell_type": "markdown",
   "source": "### Creating useful feature columns based on raw data",
   "id": "78446782c9a917bd"
  },
  {
   "metadata": {},
   "cell_type": "code",
   "source": [
    "\"\"\"\n",
    "Creating additional data columns based on raw data.\n",
    "\"\"\"\n",
    "flight_df[\"actual_velocity\"] = np.sqrt(\n",
    "    flight_df[\"velocity_x\"] ** 2 + \n",
    "    flight_df[\"velocity_y\"] ** 2 + \n",
    "    flight_df[\"velocity_z\"] ** 2\n",
    ")\n",
    "flight_df[\"actual_acceleration\"] = np.sqrt(\n",
    "    flight_df[\"linear_acceleration_x\"] ** 2 + \n",
    "    flight_df[\"linear_acceleration_y\"] ** 2 + \n",
    "    flight_df[\"linear_acceleration_z\"] ** 2\n",
    ")\n",
    "flight_df[\"power_usage\"] = flight_df[\"battery_current\"] * flight_df[\"battery_voltage\"]"
   ],
   "id": "b96933c7c9c6593d",
   "outputs": [],
   "execution_count": null
  },
  {
   "metadata": {},
   "cell_type": "markdown",
   "source": "### Heat Map - Correlation",
   "id": "fb759a22037b66c3"
  },
  {
   "metadata": {},
   "cell_type": "code",
   "source": [
    "\"\"\"\n",
    "Using important columns to see correlation between features\n",
    "\"\"\"\n",
    "heatmap_columns = ['flight', 'time', 'wind_speed', 'wind_angle', 'speed', 'payload', 'route', 'power_usage', \"actual_velocity\", \"actual_acceleration\"]"
   ],
   "id": "eb59912c77d27d3b",
   "outputs": [],
   "execution_count": null
  },
  {
   "metadata": {},
   "cell_type": "code",
   "source": [
    "figure = plt.figure(figsize=(7,6))\n",
    "dataplot =sns.heatmap(flight_df[heatmap_columns].corr(numeric_only=True),  cmap=\"YlGnBu\")"
   ],
   "id": "deff5585a412307a",
   "outputs": [],
   "execution_count": null
  },
  {
   "metadata": {},
   "cell_type": "markdown",
   "source": "### Sample Data of Speed=4 and altitude=25 dataframe",
   "id": "9f4379a49fc97a9b"
  },
  {
   "metadata": {},
   "cell_type": "code",
   "source": [
    "\"\"\"\n",
    "This slices the all_df dataframe and extracts the rows that\n",
    "had the same flight number as flight_id_speed_4 and some more columns\n",
    "\"\"\"\n",
    "flight_id_speed_4 = parameters_df[(parameters_df[\"speed\"] == 4.0) & (parameters_df[\"altitude\"] == \"25\")][\"flight\"]\n",
    "speed_4_df = flight_df[flight_df[\"flight\"].isin(flight_id_speed_4)][[\"flight\", \"time\", \"payload\", \"actual_velocity\", \"actual_acceleration\", \"wind_speed\", \"power_usage\"]]\n",
    "speed_4_df"
   ],
   "id": "72a13f065a1219b3",
   "outputs": [],
   "execution_count": null
  },
  {
   "metadata": {},
   "cell_type": "markdown",
   "source": "### Statsmodel Model 1",
   "id": "d954b9f4702b4530"
  },
  {
   "metadata": {},
   "cell_type": "code",
   "source": [
    "\"\"\"\n",
    "Selected columns with high correlation\n",
    "The p-values are good, except for wind_speed's p-value so I have to create another StatsModel.\n",
    "\"\"\"\n",
    "x = sm.add_constant(speed_4_df[[\"payload\", \"actual_velocity\", \"actual_acceleration\", \"wind_speed\"]], prepend=False)\n",
    "y = speed_4_df[\"power_usage\"]\n",
    "model = sm.OLS(y, x).fit()\n",
    "model_summary = model.summary()\n",
    "print(model_summary)"
   ],
   "id": "96bbaafad7ac2a7c",
   "outputs": [],
   "execution_count": null
  },
  {
   "metadata": {},
   "cell_type": "markdown",
   "source": "### Statsmodel Model 2",
   "id": "46c34617b64e9ed9"
  },
  {
   "metadata": {},
   "cell_type": "code",
   "source": [
    "\"\"\"\n",
    "This is the updated StatsModel with perfect p-values\n",
    "\"\"\"\n",
    "x = sm.add_constant(speed_4_df[[\"payload\", \"actual_velocity\", \"actual_acceleration\"]], prepend=False)\n",
    "y = speed_4_df[\"power_usage\"]\n",
    "model = sm.OLS(y, x).fit()\n",
    "model_summary = model.summary()\n",
    "print(model_summary)"
   ],
   "id": "1e7e64ec826dee1",
   "outputs": [],
   "execution_count": null
  },
  {
   "metadata": {},
   "cell_type": "markdown",
   "source": "### Create another dataset grouped by flight with the mean of every column",
   "id": "1c5b15a4cf39043d"
  },
  {
   "metadata": {},
   "cell_type": "code",
   "source": [
    "\"\"\"\n",
    "Before 35 seconds the drone is ascending and after 175 secs the drone is \n",
    "descending so those values are outliers because power consumption and altitudes \n",
    "are varying drastically, so I am excluding them\n",
    "\"\"\"\n",
    "speed_4_df = speed_4_df[(speed_4_df[\"time\"] > 35) & (speed_4_df[\"time\"] < 175)]"
   ],
   "id": "c7022c5a56880fb3",
   "outputs": [],
   "execution_count": null
  },
  {
   "metadata": {},
   "cell_type": "code",
   "source": [
    "\"\"\"\n",
    "This dataframe contains the flight values rows that have a constant \n",
    "speed of 4 and altitude of 25. \n",
    "To create a graph average the data for each flight\n",
    "\"\"\"\n",
    "speed_4_groupby_flight_df = speed_4_df.groupby([\"flight\"]).mean()\n",
    "speed_4_groupby_flight_df"
   ],
   "id": "d9bf38994812a3fb",
   "outputs": [],
   "execution_count": null
  },
  {
   "metadata": {},
   "cell_type": "markdown",
   "source": "### Payload vs Power Usage",
   "id": "6e188ed282ab658c"
  },
  {
   "metadata": {},
   "cell_type": "code",
   "source": [
    "sns.regplot(data=speed_4_groupby_flight_df, x=\"payload\", y=\"power_usage\", order=2)\n",
    "plt.title(\"Power Consumption with Increasing Load\", fontsize=14)\n",
    "plt.show()"
   ],
   "id": "b782e040957836c3",
   "outputs": [],
   "execution_count": null
  },
  {
   "metadata": {},
   "cell_type": "markdown",
   "source": "### Velocity vs Power Usage ",
   "id": "88cba6de353786df"
  },
  {
   "metadata": {},
   "cell_type": "code",
   "source": [
    "sns.regplot(data=speed_4_groupby_flight_df, x=\"actual_velocity\", y=\"power_usage\", order=1)\n",
    "plt.title(\"Power Consumption with Increasing Speed\", fontsize=14)\n",
    "plt.show()"
   ],
   "id": "5b9bf5f3ee37a3d1",
   "outputs": [],
   "execution_count": null
  },
  {
   "metadata": {},
   "cell_type": "markdown",
   "source": "### Wind_speed vs Power Usage",
   "id": "dfba4b02fb09b4a4"
  },
  {
   "metadata": {},
   "cell_type": "code",
   "source": [
    "sns.regplot(data=speed_4_groupby_flight_df, x=\"wind_speed\", y=\"power_usage\", order=1)\n",
    "plt.title(\"Power Consumption with Increasing Wind Speed\", fontsize=14)\n",
    "plt.show()"
   ],
   "id": "bb96472d08c07550",
   "outputs": [],
   "execution_count": null
  },
  {
   "metadata": {},
   "cell_type": "markdown",
   "source": "### Sample Data of Speed=10 and altitude=50",
   "id": "6fa149db1915f062"
  },
  {
   "metadata": {},
   "cell_type": "code",
   "source": [
    "\"\"\"\n",
    "Gets the flight values that satisfy the values of speed=10 and altitude=50\n",
    "\"\"\"\n",
    "flight_id_speed_10 = parameters_df[(parameters_df[\"speed\"] == 10.0) & (parameters_df[\"altitude\"] == \"50\")][\"flight\"]"
   ],
   "id": "5d830d29355f9702",
   "outputs": [],
   "execution_count": null
  },
  {
   "metadata": {},
   "cell_type": "code",
   "source": [
    "\"\"\"\n",
    "Makes a new dataframe with the flight values in flight_id_speed_10 and has the following columns (flight, payload, battery_current, wind_speed, etc)\n",
    "\"\"\"\n",
    "speed_10_df = flight_df[flight_df[\"flight\"].isin(flight_id_speed_10)][[\"flight\", \"time\", \"payload\", \"wind_speed\", \"actual_velocity\", \"actual_acceleration\", \"battery_voltage\", \"battery_current\"]]\n",
    "speed_10_df[\"power_usage\"] = speed_10_df[\"battery_current\"] * speed_10_df[\"battery_voltage\"]\n",
    "speed_10_df"
   ],
   "id": "7119d95453e301b5",
   "outputs": [],
   "execution_count": null
  },
  {
   "metadata": {},
   "cell_type": "markdown",
   "source": "### Stasmodel Model 1",
   "id": "938ef135b7749262"
  },
  {
   "metadata": {},
   "cell_type": "code",
   "source": [
    "\"\"\"\n",
    "Picked the columns that had a good correlation value in the heat map.\n",
    "The p-values were good, so I do not have to create another StatsModel.\n",
    "\"\"\"\n",
    "x = sm.add_constant(speed_10_df[[\"payload\", \"actual_velocity\", \"actual_acceleration\", \"wind_speed\"]], prepend=False)\n",
    "y = speed_10_df[\"power_usage\"]\n",
    "model = sm.OLS(y, x).fit()\n",
    "model_summary = model.summary()\n",
    "print(model_summary)"
   ],
   "id": "2f139c1c0f88fe73",
   "outputs": [],
   "execution_count": null
  },
  {
   "metadata": {},
   "cell_type": "markdown",
   "source": "### Create another dataset grouped by flight with the mean of every column",
   "id": "3c3f1096d1371383"
  },
  {
   "metadata": {},
   "cell_type": "code",
   "source": [
    "\"\"\"\n",
    "Before 25 seconds the drone is ascending and after 110 secs the drone is descending so those values are outliers, so I am excluding them\n",
    "\"\"\"\n",
    "speed_10_df = speed_10_df[(speed_10_df[\"time\"] > 25) & (speed_10_df[\"time\"] < 110)]"
   ],
   "id": "38727958dd2ee5e1",
   "outputs": [],
   "execution_count": null
  },
  {
   "metadata": {},
   "cell_type": "code",
   "source": [
    "\"\"\"\n",
    "This dataframe contains the flight values rows that have a constant \n",
    "speed of 10 and altitude of 50 and averages the value of every column\n",
    "\"\"\"\n",
    "speed_10_groupby_flight_df = speed_10_df.groupby([\"flight\"]).mean()\n",
    "speed_10_groupby_flight_df"
   ],
   "id": "9222fa7cad0dda2c",
   "outputs": [],
   "execution_count": null
  },
  {
   "metadata": {},
   "cell_type": "markdown",
   "source": "## Payload vs Power Usage",
   "id": "e44d4a77d50c160d"
  },
  {
   "metadata": {},
   "cell_type": "code",
   "source": [
    "sns.regplot(data=speed_10_groupby_flight_df, x=\"payload\", y=\"power_usage\", order=2)\n",
    "plt.title(\"Payload V/S Power Usage\", fontsize=14)"
   ],
   "id": "788db7dcce970d5f",
   "outputs": [],
   "execution_count": null
  },
  {
   "metadata": {},
   "cell_type": "code",
   "source": "",
   "id": "f895ec649dbbbca6",
   "outputs": [],
   "execution_count": null
  }
 ],
 "metadata": {
  "kernelspec": {
   "display_name": "Python 3",
   "language": "python",
   "name": "python3"
  },
  "language_info": {
   "codemirror_mode": {
    "name": "ipython",
    "version": 2
   },
   "file_extension": ".py",
   "mimetype": "text/x-python",
   "name": "python",
   "nbconvert_exporter": "python",
   "pygments_lexer": "ipython2",
   "version": "2.7.6"
  }
 },
 "nbformat": 4,
 "nbformat_minor": 5
}
